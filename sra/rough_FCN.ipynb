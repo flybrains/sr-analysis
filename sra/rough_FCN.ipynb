{
 "cells": [
  {
   "cell_type": "code",
   "execution_count": 1,
   "metadata": {},
   "outputs": [],
   "source": [
    "import data_load as dl\n",
    "import matplotlib.pyplot as plt\n",
    "import numpy as np\n",
    "%matplotlib inline"
   ]
  },
  {
   "cell_type": "code",
   "execution_count": 2,
   "metadata": {},
   "outputs": [
    {
     "name": "stderr",
     "output_type": "stream",
     "text": [
      "C:\\Users\\Patrick\\Anaconda3\\lib\\site-packages\\openpyxl\\reader\\worksheet.py:318: UserWarning: Unknown extension is not supported and will be removed\n",
      "  warn(msg)\n"
     ]
    }
   ],
   "source": [
    "path = r\"C:\\Users\\Patrick\\Datasets\\sr\\SR\"\n",
    "trial_paths = dl.combine_data(path)\n",
    "trials = dl.generate_trial_objects(trial_paths)\n",
    "processed_trials = dl.process_trial_data(trials)"
   ]
  },
  {
   "cell_type": "code",
   "execution_count": 3,
   "metadata": {},
   "outputs": [],
   "source": [
    "#Smallest motion sample is 17559\n",
    "# All G samples are 3030 long\n",
    "# Take 2880 points from middle of 3030\n",
    "# 3030 - 2880 = 150\n",
    "#150/2 = 75\n",
    "#Start each (Gs and downsampled motion on point 75) then sample out 2880"
   ]
  },
  {
   "cell_type": "code",
   "execution_count": 46,
   "metadata": {},
   "outputs": [],
   "source": [
    "def synch_streams(G3, motion):\n",
    "    #G2 = G2[75:-75]\n",
    "    G3 = G3[75:-75]\n",
    "    #G4 = G4[75:-75]\n",
    "    #G5 = G5[75:-75]\n",
    "    \n",
    "    new_motion = motion[0:-1:6]\n",
    "    new_motion = motion[75:(75+2880)]\n",
    "    \n",
    "    return G3, new_motion"
   ]
  },
  {
   "cell_type": "code",
   "execution_count": 47,
   "metadata": {
    "scrolled": false
   },
   "outputs": [],
   "source": [
    "# f, (ax1, ax2, ax3, ax4, ax5) = plt.subplots(5, 1, figsize=(100,12))\n",
    "# ax1.plot(G2)\n",
    "# ax2.plot(G3)\n",
    "# ax3.plot(G4)\n",
    "# ax4.plot(G5)\n",
    "# ax5.plot(new_motion)\n",
    "\n",
    "#Full segment is now 2880 samples for all streams at 10Hz --> 288 Seconds --> 4m48s"
   ]
  },
  {
   "cell_type": "code",
   "execution_count": 81,
   "metadata": {},
   "outputs": [],
   "source": [
    "def generate_segments(G3, motion):\n",
    "    full_run_length = 2880\n",
    "    num_segments = 200\n",
    "    indices = np.random.randint(0,(full_run_length - 100), size=(num_segments))\n",
    "    \n",
    "    G3_out = []\n",
    "    motion_out = []\n",
    "    \n",
    "    for i in indices:\n",
    "        #G2_seg = G2[i:(i+100)]/np.amax(G2[i:(i+100)])\n",
    "        G3_seg = G3[i:(i+100)]/np.amax(G3[i:(i+100)])\n",
    "        #G4_seg = G4[i:(i+100)]/np.amax(G4[i:(i+100)])\n",
    "        #G5_seg = G5[i:(i+100)]/np.amax(G5[i:(i+100)])\n",
    "        motion_seg = motion[i:(i+100)]/np.amax(motion[i:(i+100)])\n",
    "        \n",
    "        G3_out.append(G3_seg)\n",
    "        motion_out.append(motion_seg)\n",
    "\n",
    "    return G3_out, motion_out"
   ]
  },
  {
   "cell_type": "code",
   "execution_count": 49,
   "metadata": {
    "scrolled": true
   },
   "outputs": [],
   "source": [
    "# f, (ax1, ax2, ax3, ax4, ax5) = plt.subplots(5, 1, figsize=(15,12))\n",
    "# ax1.plot(segments[148][0])\n",
    "# ax2.plot(segments[148][1])\n",
    "# ax3.plot(segments[148][2])\n",
    "# ax4.plot(segments[148][3])\n",
    "# ax5.plot(segments[148][4])"
   ]
  },
  {
   "cell_type": "code",
   "execution_count": 50,
   "metadata": {},
   "outputs": [],
   "source": [
    "# f, (ax1, ax2, ax3, ax4, ax5) = plt.subplots(5, 1, figsize=(15,12))\n",
    "# ax1.plot(segments[148][0][0:50])\n",
    "# ax2.plot(segments[148][1][0:50])\n",
    "# ax3.plot(segments[148][2][0:50])\n",
    "# ax4.plot(segments[148][3][0:50])\n",
    "# ax5.plot(segments[148][4][0:50])"
   ]
  },
  {
   "cell_type": "code",
   "execution_count": 94,
   "metadata": {},
   "outputs": [],
   "source": [
    "#Start experimenting with NNet relationship between G3 and Net Motion\n",
    "#Generate a bunch of G3/net motion samples:\n",
    "\n",
    "trial = processed_trials[5]\n",
    "\n",
    "G3_temp, motion_temp = synch_streams(trial.G3_AVG, trial.Motion_Conv)\n",
    "G3, motion = generate_segments(G3_temp, motion_temp)\n"
   ]
  },
  {
   "cell_type": "code",
   "execution_count": 97,
   "metadata": {
    "scrolled": true
   },
   "outputs": [],
   "source": [
    "X = np.asarray(G3)\n",
    "y = np.asarray(motion)"
   ]
  },
  {
   "cell_type": "code",
   "execution_count": 96,
   "metadata": {},
   "outputs": [
    {
     "data": {
      "text/plain": [
       "(200, 100)"
      ]
     },
     "execution_count": 96,
     "metadata": {},
     "output_type": "execute_result"
    }
   ],
   "source": [
    "X.shape"
   ]
  },
  {
   "cell_type": "code",
   "execution_count": 98,
   "metadata": {},
   "outputs": [
    {
     "data": {
      "text/plain": [
       "(200, 100)"
      ]
     },
     "execution_count": 98,
     "metadata": {},
     "output_type": "execute_result"
    }
   ],
   "source": [
    "y.shape"
   ]
  },
  {
   "cell_type": "code",
   "execution_count": null,
   "metadata": {},
   "outputs": [],
   "source": []
  }
 ],
 "metadata": {
  "kernelspec": {
   "display_name": "Python 3",
   "language": "python",
   "name": "python3"
  },
  "language_info": {
   "codemirror_mode": {
    "name": "ipython",
    "version": 3
   },
   "file_extension": ".py",
   "mimetype": "text/x-python",
   "name": "python",
   "nbconvert_exporter": "python",
   "pygments_lexer": "ipython3",
   "version": "3.6.5"
  }
 },
 "nbformat": 4,
 "nbformat_minor": 2
}
