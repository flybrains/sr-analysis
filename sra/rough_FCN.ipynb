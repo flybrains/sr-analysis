{
 "cells": [
  {
   "cell_type": "code",
   "execution_count": 105,
   "metadata": {},
   "outputs": [],
   "source": [
    "import data_load as dl\n",
    "import matplotlib.pyplot as plt\n",
    "import numpy as np\n",
    "import sklearn\n",
    "%matplotlib inline"
   ]
  },
  {
   "cell_type": "code",
   "execution_count": 2,
   "metadata": {},
   "outputs": [
    {
     "name": "stderr",
     "output_type": "stream",
     "text": [
      "C:\\Users\\Patrick\\Anaconda3\\lib\\site-packages\\openpyxl\\reader\\worksheet.py:318: UserWarning: Unknown extension is not supported and will be removed\n",
      "  warn(msg)\n"
     ]
    }
   ],
   "source": [
    "path = r\"C:\\Users\\Patrick\\Datasets\\sr\\SR\"\n",
    "trial_paths = dl.combine_data(path)\n",
    "trials = dl.generate_trial_objects(trial_paths)\n",
    "processed_trials = dl.process_trial_data(trials)"
   ]
  },
  {
   "cell_type": "code",
   "execution_count": 3,
   "metadata": {},
   "outputs": [],
   "source": [
    "#Smallest motion sample is 17559\n",
    "# All G samples are 3030 long\n",
    "# Take 2880 points from middle of 3030\n",
    "# 3030 - 2880 = 150\n",
    "#150/2 = 75\n",
    "#Start each (Gs and downsampled motion on point 75) then sample out 2880"
   ]
  },
  {
   "cell_type": "code",
   "execution_count": 309,
   "metadata": {},
   "outputs": [],
   "source": [
    "def synch_streams(G3, G4, motion):\n",
    "    #G2 = G2[75:-75]\n",
    "    G3 = G3[75:-75]\n",
    "    G4 = G4[75:-75]\n",
    "    #G5 = G5[75:-75]\n",
    "    \n",
    "    new_motion = motion[0:-1:6]\n",
    "    new_motion = motion[75:(75+2880)]\n",
    "    \n",
    "    return G3, G4, new_motion"
   ]
  },
  {
   "cell_type": "code",
   "execution_count": 47,
   "metadata": {
    "scrolled": false
   },
   "outputs": [],
   "source": [
    "# f, (ax1, ax2, ax3, ax4, ax5) = plt.subplots(5, 1, figsize=(100,12))\n",
    "# ax1.plot(G2)\n",
    "# ax2.plot(G3)\n",
    "# ax3.plot(G4)\n",
    "# ax4.plot(G5)\n",
    "# ax5.plot(new_motion)\n",
    "\n",
    "#Full segment is now 2880 samples for all streams at 10Hz --> 288 Seconds --> 4m48s"
   ]
  },
  {
   "cell_type": "code",
   "execution_count": 453,
   "metadata": {},
   "outputs": [],
   "source": [
    "def generate_segments(G3, G4, motion):\n",
    "    full_run_length = 2880\n",
    "    num_segments = 200\n",
    "    indices = np.random.randint(0,(full_run_length - 100), size=(num_segments))\n",
    "    \n",
    "    images_out = []\n",
    "    motion_out = []\n",
    "    \n",
    "    for i in indices:\n",
    "        #G2_seg = G2[i:(i+100)]/np.amax(G2[i:(i+100)])\n",
    "        G3_seg = G3[i:(i+100)]/np.amax(G3[i:(i+100)])\n",
    "        G4_seg = G4[i:(i+100)]/np.amax(G4[i:(i+100)])\n",
    "        #G5_seg = G5[i:(i+100)]/np.amax(G5[i:(i+100)])\n",
    "        motion_seg = motion[i:(i+100)]/np.amax(motion[i:(i+100)])\n",
    "        \n",
    "        new_image = np.array([[G3_seg],[G4_seg]])\n",
    "        \n",
    "        images_out.append(new_image)\n",
    "        \n",
    "        motion_out.append(np.asarray(motion_seg))\n",
    "        \n",
    "    \n",
    "\n",
    "    return images_out, motion_out"
   ]
  },
  {
   "cell_type": "code",
   "execution_count": 117,
   "metadata": {
    "scrolled": true
   },
   "outputs": [],
   "source": [
    "# f, (ax1, ax2, ax3, ax4, ax5) = plt.subplots(5, 1, figsize=(15,12))\n",
    "# ax1.plot(segments[148][0])\n",
    "# ax2.plot(segments[148][1])\n",
    "# ax3.plot(segments[148][2])\n",
    "# ax4.plot(segments[148][3])\n",
    "# ax5.plot(segments[148][4])"
   ]
  },
  {
   "cell_type": "code",
   "execution_count": 50,
   "metadata": {},
   "outputs": [],
   "source": [
    "# f, (ax1, ax2, ax3, ax4, ax5) = plt.subplots(5, 1, figsize=(15,12))\n",
    "# ax1.plot(segments[148][0][0:50])\n",
    "# ax2.plot(segments[148][1][0:50])\n",
    "# ax3.plot(segments[148][2][0:50])\n",
    "# ax4.plot(segments[148][3][0:50])\n",
    "# ax5.plot(segments[148][4][0:50])"
   ]
  },
  {
   "cell_type": "code",
   "execution_count": 195,
   "metadata": {},
   "outputs": [],
   "source": [
    "# test_trial = processed_trials[3]\n",
    "\n",
    "# G3_test, motion_test = synch_streams(test_trial.G3_AVG, test_trial.Motion_Conv)\n",
    "# G3, motion = generate_segments(G3_test, motion_test)"
   ]
  },
  {
   "cell_type": "code",
   "execution_count": 482,
   "metadata": {},
   "outputs": [],
   "source": [
    "#Start experimenting with NNet relationship between G3 and Net Motion\n",
    "#Generate a bunch of G3/net motion samples:\n",
    "\n",
    "# trial = processed_trials[5]\n",
    "# G3_temp, G4_temp, motion_temp = synch_streams(trial.G3_AVG, trial.G4_AVG, trial.Motion_Conv)\n",
    "# images, motion = generate_segments(G3_temp, G4_temp, motion_temp)\n",
    "\n",
    "# b = images[43]\n",
    "        \n",
    "\n",
    "# X = np.array(X)\n",
    "# y = np.array(y)"
   ]
  },
  {
   "cell_type": "code",
   "execution_count": 481,
   "metadata": {},
   "outputs": [],
   "source": [
    "#b = np.array(b)"
   ]
  },
  {
   "cell_type": "code",
   "execution_count": 480,
   "metadata": {},
   "outputs": [],
   "source": [
    "#b.shape"
   ]
  },
  {
   "cell_type": "code",
   "execution_count": 479,
   "metadata": {
    "scrolled": true
   },
   "outputs": [],
   "source": [
    "#b.reshape(2,100)"
   ]
  },
  {
   "cell_type": "code",
   "execution_count": 596,
   "metadata": {},
   "outputs": [],
   "source": [
    "trial = processed_trials[5]\n",
    "G3_temp, G4_temp, motion_temp = synch_streams(trial.G3_AVG, trial.G4_AVG, trial.Motion_Conv)\n",
    "images, motion = generate_segments(G3_temp, G4_temp, motion_temp)\n",
    "\n",
    "X = []\n",
    "y = []\n",
    "\n",
    "for image in images:\n",
    "    new_image=np.array(image)\n",
    "    new_image.reshape(2,100,1)\n",
    "    X.append(new_image)\n",
    "    \n",
    "for entry in motion:\n",
    "    y.append(np.array(entry))\n",
    "    \n",
    "X = np.array(X).reshape(200,100,2)\n",
    "y = np.array(y)"
   ]
  },
  {
   "cell_type": "code",
   "execution_count": 597,
   "metadata": {},
   "outputs": [
    {
     "data": {
      "text/plain": [
       "(200, 100, 2)"
      ]
     },
     "execution_count": 597,
     "metadata": {},
     "output_type": "execute_result"
    }
   ],
   "source": [
    "X.shape"
   ]
  },
  {
   "cell_type": "code",
   "execution_count": 598,
   "metadata": {},
   "outputs": [
    {
     "data": {
      "text/plain": [
       "(200, 100)"
      ]
     },
     "execution_count": 598,
     "metadata": {},
     "output_type": "execute_result"
    }
   ],
   "source": [
    "y.shape"
   ]
  },
  {
   "cell_type": "code",
   "execution_count": 599,
   "metadata": {},
   "outputs": [],
   "source": [
    "#X = np.expand_dims(X, axis=2)\n",
    "X = np.expand_dims(X, axis=3)\n",
    "\n",
    "y = np.expand_dims(y, axis=2)\n",
    "y = np.expand_dims(y, axis=3)"
   ]
  },
  {
   "cell_type": "code",
   "execution_count": 600,
   "metadata": {},
   "outputs": [
    {
     "data": {
      "text/plain": [
       "(200, 100, 1, 1)"
      ]
     },
     "execution_count": 600,
     "metadata": {},
     "output_type": "execute_result"
    }
   ],
   "source": [
    "y.shape"
   ]
  },
  {
   "cell_type": "code",
   "execution_count": 601,
   "metadata": {},
   "outputs": [
    {
     "data": {
      "text/plain": [
       "(200, 100, 2, 1)"
      ]
     },
     "execution_count": 601,
     "metadata": {},
     "output_type": "execute_result"
    }
   ],
   "source": [
    "X.shape"
   ]
  },
  {
   "cell_type": "code",
   "execution_count": 602,
   "metadata": {
    "scrolled": false
   },
   "outputs": [],
   "source": [
    "from keras.models import Sequential\n",
    "from keras.layers import Conv1D, ZeroPadding1D, Conv2DTranspose, UpSampling2D\n",
    "from keras.layers.pooling import MaxPooling2D, MaxPooling1D\n",
    "\n",
    "model = Sequential()\n",
    "model.add(Conv2D(10, (2,2), padding='same', activation='relu', input_shape=(100,2,1)))\n",
    "model.add(MaxPooling2D(2))\n",
    "\n",
    "# model.add(Conv2D(24, (2,2), padding='same', activation='relu'))\n",
    "# model.add(MaxPooling2D(1,2))\n",
    "\n",
    "# model.add(Conv2DTranspose(1, (1,1), strides=(1,1), activation='relu'))\n",
    "# model.add(UpSampling2D(size=(1,2)))\n",
    "\n",
    "model.add(Conv2DTranspose(1, (1,1), strides=(1,1), activation='relu'))\n",
    "model.add(UpSampling2D(size=(2,1)))\n",
    "\n",
    "\n",
    "model.compile(optimizer='adam', loss = 'mean_squared_error', metrics = ['accuracy'])"
   ]
  },
  {
   "cell_type": "code",
   "execution_count": 603,
   "metadata": {},
   "outputs": [
    {
     "data": {
      "text/plain": [
       "[<keras.layers.convolutional.Conv2D at 0x14b2f731ac8>,\n",
       " <keras.layers.pooling.MaxPooling2D at 0x14b2f731b00>,\n",
       " <keras.layers.convolutional.Conv2DTranspose at 0x14b2f731cc0>,\n",
       " <keras.layers.convolutional.UpSampling2D at 0x14b2f731ef0>]"
      ]
     },
     "execution_count": 603,
     "metadata": {},
     "output_type": "execute_result"
    }
   ],
   "source": [
    "model.layers"
   ]
  },
  {
   "cell_type": "code",
   "execution_count": 604,
   "metadata": {},
   "outputs": [
    {
     "name": "stdout",
     "output_type": "stream",
     "text": [
      "<keras.layers.convolutional.Conv2D object at 0x0000014B2F731AC8>\n",
      "(None, 100, 2, 10)\n",
      "<keras.layers.pooling.MaxPooling2D object at 0x0000014B2F731B00>\n",
      "(None, 50, 1, 10)\n",
      "<keras.layers.convolutional.Conv2DTranspose object at 0x0000014B2F731CC0>\n",
      "(None, 50, 1, 1)\n",
      "<keras.layers.convolutional.UpSampling2D object at 0x0000014B2F731EF0>\n",
      "(None, 100, 1, 1)\n"
     ]
    }
   ],
   "source": [
    "for layer in model.layers:\n",
    "    print(layer)\n",
    "    print(layer.output_shape)"
   ]
  },
  {
   "cell_type": "code",
   "execution_count": 606,
   "metadata": {},
   "outputs": [
    {
     "name": "stdout",
     "output_type": "stream",
     "text": [
      "Epoch 1/100\n",
      "200/200 [==============================] - 0s 210us/step - loss: 0.0153 - acc: 0.0100\n",
      "Epoch 2/100\n",
      "200/200 [==============================] - 0s 190us/step - loss: 0.0153 - acc: 0.0100\n",
      "Epoch 3/100\n",
      "200/200 [==============================] - 0s 185us/step - loss: 0.0153 - acc: 0.0100\n",
      "Epoch 4/100\n",
      "200/200 [==============================] - 0s 185us/step - loss: 0.0153 - acc: 0.0100\n",
      "Epoch 5/100\n",
      "200/200 [==============================] - 0s 188us/step - loss: 0.0152 - acc: 0.0100\n",
      "Epoch 6/100\n",
      "200/200 [==============================] - 0s 180us/step - loss: 0.0152 - acc: 0.0100\n",
      "Epoch 7/100\n",
      "200/200 [==============================] - 0s 190us/step - loss: 0.0152 - acc: 0.0100\n",
      "Epoch 8/100\n",
      "200/200 [==============================] - 0s 220us/step - loss: 0.0152 - acc: 0.0100\n",
      "Epoch 9/100\n",
      "200/200 [==============================] - 0s 180us/step - loss: 0.0151 - acc: 0.0100\n",
      "Epoch 10/100\n",
      "200/200 [==============================] - 0s 185us/step - loss: 0.0152 - acc: 0.0100\n",
      "Epoch 11/100\n",
      "200/200 [==============================] - 0s 180us/step - loss: 0.0151 - acc: 0.0100\n",
      "Epoch 12/100\n",
      "200/200 [==============================] - 0s 195us/step - loss: 0.0151 - acc: 0.0100\n",
      "Epoch 13/100\n",
      "200/200 [==============================] - 0s 190us/step - loss: 0.0151 - acc: 0.0100\n",
      "Epoch 14/100\n",
      "200/200 [==============================] - 0s 175us/step - loss: 0.0150 - acc: 0.0100\n",
      "Epoch 15/100\n",
      "200/200 [==============================] - 0s 190us/step - loss: 0.0150 - acc: 0.0100\n",
      "Epoch 16/100\n",
      "200/200 [==============================] - 0s 190us/step - loss: 0.0150 - acc: 0.0100\n",
      "Epoch 17/100\n",
      "200/200 [==============================] - 0s 180us/step - loss: 0.0150 - acc: 0.0100\n",
      "Epoch 18/100\n",
      "200/200 [==============================] - 0s 195us/step - loss: 0.0149 - acc: 0.0100\n",
      "Epoch 19/100\n",
      "200/200 [==============================] - 0s 190us/step - loss: 0.0149 - acc: 0.0100\n",
      "Epoch 20/100\n",
      "200/200 [==============================] - 0s 180us/step - loss: 0.0149 - acc: 0.0100\n",
      "Epoch 21/100\n",
      "200/200 [==============================] - 0s 190us/step - loss: 0.0148 - acc: 0.0100\n",
      "Epoch 22/100\n",
      "200/200 [==============================] - 0s 190us/step - loss: 0.0148 - acc: 0.0100\n",
      "Epoch 23/100\n",
      "200/200 [==============================] - 0s 190us/step - loss: 0.0148 - acc: 0.0100\n",
      "Epoch 24/100\n",
      "200/200 [==============================] - 0s 180us/step - loss: 0.0147 - acc: 0.0100\n",
      "Epoch 25/100\n",
      "200/200 [==============================] - 0s 190us/step - loss: 0.0147 - acc: 0.0100\n",
      "Epoch 26/100\n",
      "200/200 [==============================] - ETA: 0s - loss: 0.0188 - acc: 0.010 - 0s 190us/step - loss: 0.0147 - acc: 0.0100\n",
      "Epoch 27/100\n",
      "200/200 [==============================] - 0s 190us/step - loss: 0.0147 - acc: 0.0100\n",
      "Epoch 28/100\n",
      "200/200 [==============================] - 0s 185us/step - loss: 0.0147 - acc: 0.0100\n",
      "Epoch 29/100\n",
      "200/200 [==============================] - 0s 185us/step - loss: 0.0146 - acc: 0.0100\n",
      "Epoch 30/100\n",
      "200/200 [==============================] - 0s 185us/step - loss: 0.0146 - acc: 0.0100\n",
      "Epoch 31/100\n",
      "200/200 [==============================] - 0s 180us/step - loss: 0.0146 - acc: 0.0100\n",
      "Epoch 32/100\n",
      "200/200 [==============================] - 0s 190us/step - loss: 0.0145 - acc: 0.0100\n",
      "Epoch 33/100\n",
      "200/200 [==============================] - 0s 195us/step - loss: 0.0145 - acc: 0.0100\n",
      "Epoch 34/100\n",
      "200/200 [==============================] - ETA: 0s - loss: 0.0120 - acc: 0.010 - 0s 180us/step - loss: 0.0144 - acc: 0.0100\n",
      "Epoch 35/100\n",
      "200/200 [==============================] - 0s 195us/step - loss: 0.0145 - acc: 0.0100\n",
      "Epoch 36/100\n",
      "200/200 [==============================] - 0s 180us/step - loss: 0.0144 - acc: 0.0100\n",
      "Epoch 37/100\n",
      "200/200 [==============================] - 0s 180us/step - loss: 0.0144 - acc: 0.0100\n",
      "Epoch 38/100\n",
      "200/200 [==============================] - 0s 190us/step - loss: 0.0144 - acc: 0.0100\n",
      "Epoch 39/100\n",
      "200/200 [==============================] - 0s 185us/step - loss: 0.0143 - acc: 0.0100\n",
      "Epoch 40/100\n",
      "200/200 [==============================] - 0s 180us/step - loss: 0.0143 - acc: 0.0100\n",
      "Epoch 41/100\n",
      "200/200 [==============================] - 0s 190us/step - loss: 0.0142 - acc: 0.0100\n",
      "Epoch 42/100\n",
      "200/200 [==============================] - 0s 190us/step - loss: 0.0142 - acc: 0.0100\n",
      "Epoch 43/100\n",
      "200/200 [==============================] - 0s 190us/step - loss: 0.0142 - acc: 0.0100\n",
      "Epoch 44/100\n",
      "200/200 [==============================] - 0s 195us/step - loss: 0.0142 - acc: 0.0100\n",
      "Epoch 45/100\n",
      "200/200 [==============================] - 0s 195us/step - loss: 0.0142 - acc: 0.0100\n",
      "Epoch 46/100\n",
      "200/200 [==============================] - 0s 195us/step - loss: 0.0141 - acc: 0.0100\n",
      "Epoch 47/100\n",
      "200/200 [==============================] - 0s 200us/step - loss: 0.0141 - acc: 0.0100\n",
      "Epoch 48/100\n",
      "200/200 [==============================] - 0s 200us/step - loss: 0.0140 - acc: 0.0100\n",
      "Epoch 49/100\n",
      "200/200 [==============================] - 0s 190us/step - loss: 0.0141 - acc: 0.0100\n",
      "Epoch 50/100\n",
      "200/200 [==============================] - 0s 205us/step - loss: 0.0140 - acc: 0.0100\n",
      "Epoch 51/100\n",
      "200/200 [==============================] - 0s 210us/step - loss: 0.0140 - acc: 0.0100\n",
      "Epoch 52/100\n",
      "200/200 [==============================] - 0s 200us/step - loss: 0.0140 - acc: 0.0100\n",
      "Epoch 53/100\n",
      "200/200 [==============================] - 0s 220us/step - loss: 0.0139 - acc: 0.0100\n",
      "Epoch 54/100\n",
      "200/200 [==============================] - 0s 205us/step - loss: 0.0140 - acc: 0.0100\n",
      "Epoch 55/100\n",
      "200/200 [==============================] - 0s 200us/step - loss: 0.0138 - acc: 0.0100\n",
      "Epoch 56/100\n",
      "200/200 [==============================] - 0s 190us/step - loss: 0.0139 - acc: 0.0100\n",
      "Epoch 57/100\n",
      "200/200 [==============================] - 0s 205us/step - loss: 0.0138 - acc: 0.0100\n",
      "Epoch 58/100\n",
      "200/200 [==============================] - 0s 185us/step - loss: 0.0138 - acc: 0.0100\n",
      "Epoch 59/100\n",
      "200/200 [==============================] - 0s 190us/step - loss: 0.0137 - acc: 0.0100\n",
      "Epoch 60/100\n",
      "200/200 [==============================] - 0s 200us/step - loss: 0.0137 - acc: 0.0100\n",
      "Epoch 61/100\n",
      "200/200 [==============================] - 0s 175us/step - loss: 0.0137 - acc: 0.0100\n",
      "Epoch 62/100\n",
      "200/200 [==============================] - 0s 195us/step - loss: 0.0136 - acc: 0.0100\n",
      "Epoch 63/100\n",
      "200/200 [==============================] - 0s 185us/step - loss: 0.0136 - acc: 0.0100\n",
      "Epoch 64/100\n",
      "200/200 [==============================] - 0s 185us/step - loss: 0.0136 - acc: 0.0100\n",
      "Epoch 65/100\n",
      "200/200 [==============================] - 0s 197us/step - loss: 0.0136 - acc: 0.0100\n",
      "Epoch 66/100\n",
      "200/200 [==============================] - 0s 185us/step - loss: 0.0136 - acc: 0.0100\n",
      "Epoch 67/100\n",
      "200/200 [==============================] - 0s 176us/step - loss: 0.0135 - acc: 0.0100\n",
      "Epoch 68/100\n",
      "200/200 [==============================] - 0s 175us/step - loss: 0.0135 - acc: 0.0100\n",
      "Epoch 69/100\n",
      "200/200 [==============================] - 0s 180us/step - loss: 0.0136 - acc: 0.0100\n",
      "Epoch 70/100\n",
      "200/200 [==============================] - 0s 190us/step - loss: 0.0134 - acc: 0.0100\n",
      "Epoch 71/100\n",
      "200/200 [==============================] - 0s 185us/step - loss: 0.0134 - acc: 0.0100\n",
      "Epoch 72/100\n",
      "200/200 [==============================] - 0s 180us/step - loss: 0.0134 - acc: 0.0100\n",
      "Epoch 73/100\n",
      "200/200 [==============================] - 0s 199us/step - loss: 0.0134 - acc: 0.0100\n",
      "Epoch 74/100\n",
      "200/200 [==============================] - 0s 220us/step - loss: 0.0133 - acc: 0.0100\n",
      "Epoch 75/100\n",
      "200/200 [==============================] - 0s 180us/step - loss: 0.0133 - acc: 0.0100\n",
      "Epoch 76/100\n",
      "200/200 [==============================] - 0s 185us/step - loss: 0.0133 - acc: 0.0100\n",
      "Epoch 77/100\n",
      "200/200 [==============================] - 0s 195us/step - loss: 0.0132 - acc: 0.0100\n",
      "Epoch 78/100\n",
      "200/200 [==============================] - 0s 180us/step - loss: 0.0132 - acc: 0.0100\n",
      "Epoch 79/100\n",
      "200/200 [==============================] - 0s 190us/step - loss: 0.0133 - acc: 0.0100\n",
      "Epoch 80/100\n",
      "200/200 [==============================] - 0s 185us/step - loss: 0.0132 - acc: 0.0100\n",
      "Epoch 81/100\n",
      "200/200 [==============================] - 0s 190us/step - loss: 0.0132 - acc: 0.0100\n",
      "Epoch 82/100\n",
      "200/200 [==============================] - 0s 190us/step - loss: 0.0132 - acc: 0.0100\n",
      "Epoch 83/100\n"
     ]
    },
    {
     "name": "stdout",
     "output_type": "stream",
     "text": [
      "200/200 [==============================] - 0s 195us/step - loss: 0.0131 - acc: 0.0100\n",
      "Epoch 84/100\n",
      "200/200 [==============================] - 0s 180us/step - loss: 0.0131 - acc: 0.0100\n",
      "Epoch 85/100\n",
      "200/200 [==============================] - 0s 190us/step - loss: 0.0131 - acc: 0.0100\n",
      "Epoch 86/100\n",
      "200/200 [==============================] - 0s 180us/step - loss: 0.0131 - acc: 0.0100\n",
      "Epoch 87/100\n",
      "200/200 [==============================] - 0s 175us/step - loss: 0.0131 - acc: 0.0100\n",
      "Epoch 88/100\n",
      "200/200 [==============================] - 0s 175us/step - loss: 0.0130 - acc: 0.0100\n",
      "Epoch 89/100\n",
      "200/200 [==============================] - 0s 180us/step - loss: 0.0130 - acc: 0.0100\n",
      "Epoch 90/100\n",
      "200/200 [==============================] - 0s 180us/step - loss: 0.0131 - acc: 0.0100\n",
      "Epoch 91/100\n",
      "200/200 [==============================] - 0s 180us/step - loss: 0.0131 - acc: 0.0100\n",
      "Epoch 92/100\n",
      "200/200 [==============================] - 0s 175us/step - loss: 0.0130 - acc: 0.0100\n",
      "Epoch 93/100\n",
      "200/200 [==============================] - 0s 180us/step - loss: 0.0129 - acc: 0.0100\n",
      "Epoch 94/100\n",
      "200/200 [==============================] - 0s 175us/step - loss: 0.0129 - acc: 0.0100\n",
      "Epoch 95/100\n",
      "200/200 [==============================] - 0s 185us/step - loss: 0.0129 - acc: 0.0100\n",
      "Epoch 96/100\n",
      "200/200 [==============================] - 0s 180us/step - loss: 0.0129 - acc: 0.0100\n",
      "Epoch 97/100\n",
      "200/200 [==============================] - 0s 175us/step - loss: 0.0128 - acc: 0.0100\n",
      "Epoch 98/100\n",
      "200/200 [==============================] - 0s 180us/step - loss: 0.0128 - acc: 0.0100\n",
      "Epoch 99/100\n",
      "200/200 [==============================] - 0s 180us/step - loss: 0.0128 - acc: 0.0100\n",
      "Epoch 100/100\n",
      "200/200 [==============================] - 0s 180us/step - loss: 0.0128 - acc: 0.0100\n"
     ]
    },
    {
     "data": {
      "text/plain": [
       "<keras.callbacks.History at 0x14b2f1e47b8>"
      ]
     },
     "execution_count": 606,
     "metadata": {},
     "output_type": "execute_result"
    }
   ],
   "source": [
    "model.fit(X,y, epochs=100)"
   ]
  },
  {
   "cell_type": "code",
   "execution_count": 607,
   "metadata": {},
   "outputs": [
    {
     "data": {
      "text/plain": [
       "[<tf.Variable 'conv2d_100/kernel:0' shape=(2, 2, 1, 10) dtype=float32_ref>,\n",
       " <tf.Variable 'conv2d_100/bias:0' shape=(10,) dtype=float32_ref>,\n",
       " <tf.Variable 'conv2d_transpose_51/kernel:0' shape=(1, 1, 1, 10) dtype=float32_ref>,\n",
       " <tf.Variable 'conv2d_transpose_51/bias:0' shape=(1,) dtype=float32_ref>]"
      ]
     },
     "execution_count": 607,
     "metadata": {},
     "output_type": "execute_result"
    }
   ],
   "source": []
  },
  {
   "cell_type": "code",
   "execution_count": null,
   "metadata": {},
   "outputs": [],
   "source": []
  }
 ],
 "metadata": {
  "kernelspec": {
   "display_name": "Python 3",
   "language": "python",
   "name": "python3"
  },
  "language_info": {
   "codemirror_mode": {
    "name": "ipython",
    "version": 3
   },
   "file_extension": ".py",
   "mimetype": "text/x-python",
   "name": "python",
   "nbconvert_exporter": "python",
   "pygments_lexer": "ipython3",
   "version": "3.6.5"
  }
 },
 "nbformat": 4,
 "nbformat_minor": 2
}
