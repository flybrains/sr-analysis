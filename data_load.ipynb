{
 "cells": [
  {
   "cell_type": "code",
   "execution_count": 62,
   "metadata": {},
   "outputs": [],
   "source": [
    "import pandas as pd\n",
    "import csv\n",
    "import numpy as np\n",
    "import matplotlib.pyplot as plt\n",
    "import os\n",
    "import sys\n",
    "import string"
   ]
  },
  {
   "cell_type": "code",
   "execution_count": 74,
   "metadata": {},
   "outputs": [],
   "source": [
    "def combine_data(PATHSTRING):\n",
    "    # BUILD SELECTOR FOR THIS\n",
    "    #path_to_SR_data = r\"C:\\Users\\Patrick\\Datasets\\sr\\SR\"\n",
    "    \n",
    "    #Get all datasets\n",
    "    all_paths = [x[0] for x in os.walk(PATHSTRING)]\n",
    "    \n",
    "    #Segment betwen Dataset1 (Motion and GCaMP) and Dataset 2 (Timing)\n",
    "    dataset1_paths = []\n",
    "    dataset2_paths = []\n",
    "    \n",
    "    for path in all_paths:\n",
    "        if \"Traces\" in path:\n",
    "            dataset2_paths.append(path)\n",
    "    \n",
    "    for path in dataset2_paths:\n",
    "        splits = path.split('\\\\')\n",
    "        new_name = '\\\\'.join(splits[0:-1])\n",
    "        new_name = new_name.replace('Data2', 'Data')\n",
    "        dataset1_paths.append(new_name)\n",
    "    \n",
    "    #Generate tuples for both datasets for each trial:\n",
    "    trial_paths = []\n",
    "    for i in range(len(dataset1_paths)):\n",
    "        trial = [dataset1_paths[i], dataset2_paths[i]]\n",
    "        trial_paths.append(trial)\n",
    "    \n",
    "    return trial_paths"
   ]
  },
  {
   "cell_type": "code",
   "execution_count": 75,
   "metadata": {
    "scrolled": true
   },
   "outputs": [],
   "source": [
    "path_to_SR_data = r\"C:\\Users\\Patrick\\Datasets\\sr\\SR\"\n",
    "trial_paths = combine_data(path_to_SR_data)"
   ]
  },
  {
   "cell_type": "code",
   "execution_count": null,
   "metadata": {},
   "outputs": [],
   "source": [
    "#     time_path = path_to_sr_data + r\"\\1.Data\\20180305.1\\20180305.1.2\\GCaMP_Time_Pre.csv\"\n",
    "#     gcamp_data_path = path_to_sr_data + r'\\1.Data\\20180305.1\\20180305.1.2\\ROI-profiles.txt'\n",
    "#     kinematic_data_path = path_to_sr_data + r'\\1.Data\\20180305.1\\20180305.1.2\\20180305_Fly1_THDDC_SR_2.dat'\n",
    "#     start_stop_data_path = path_to_sr_data + r'\\1.Data2\\20180305.1\\20180305.1.2\\1.Traces\\StopStart_Times_Exact.csv'\n",
    "#     light_times_path = path_to_sr_data + r'\\1.Data\\20180305.1\\20180305.1.2\\Light_Times.xlsx'"
   ]
  },
  {
   "cell_type": "code",
   "execution_count": 211,
   "metadata": {
    "scrolled": true
   },
   "outputs": [],
   "source": [
    "class Trial(object):\n",
    "    def __init__(self, name, data1_path, data2_path):\n",
    "        self.name = name\n",
    "        self.data1_path = data1_path\n",
    "        self.data2_path = data2_path\n",
    "        \n",
    "        self.time_path = data1_path+r'\\GCaMP_Time_Pre.csv'\n",
    "        self.gcamp_data_path = data1_path + r'\\ROI-profiles.txt'\n",
    "        \n",
    "        self.kinematic_data_path = data1_path+\"\\\\\"+ [x for x in os.listdir(self.data1_path) if x.endswith('.dat')][0]\n",
    "        \n",
    "        self.start_stop_data_path = data2_path + r'\\StopStart_Times_Exact.csv'\n",
    "        self.light_times_path = data1_path + r'\\Light_Times.xlsx'\n",
    "        \n",
    "\n",
    "    def get_kinematic_data(self):\n",
    "        FicTracData = np.genfromtxt(self.kinematic_data_path, delimiter=',')\n",
    "        return FicTracData"
   ]
  },
  {
   "cell_type": "code",
   "execution_count": 212,
   "metadata": {},
   "outputs": [],
   "source": [
    "def generate_trial_objects(path_tuples):\n",
    "    trial_objects = []\n",
    "    for trial_path in path_tuples:\n",
    "        name = trial_path[0].split('\\\\')[-1]\n",
    "        data1_path = trial_path[0]\n",
    "        data2_path = trial_path[1]\n",
    "        \n",
    "        new_trial = Trial(name, data1_path, data2_path)\n",
    "        trial_objects.append(new_trial)\n",
    "        \n",
    "    return trial_objects  "
   ]
  },
  {
   "cell_type": "code",
   "execution_count": 213,
   "metadata": {},
   "outputs": [],
   "source": [
    "list_of_trials = generate_trial_objects(trial_paths)"
   ]
  },
  {
   "cell_type": "code",
   "execution_count": 214,
   "metadata": {},
   "outputs": [],
   "source": [
    "test = list_of_trials[5]"
   ]
  },
  {
   "cell_type": "code",
   "execution_count": 215,
   "metadata": {},
   "outputs": [
    {
     "data": {
      "text/plain": [
       "array([[ 1.00000000e+00,  0.00000000e+00,  0.00000000e+00, ...,\n",
       "        -1.00000000e+00,  1.00000000e+00,             nan],\n",
       "       [ 2.00000000e+00, -2.51371043e-03, -4.29732580e-02, ...,\n",
       "        -1.00000000e+00,  2.00000000e+00,             nan],\n",
       "       [ 3.00000000e+00,  1.23813531e-02, -3.09515535e-02, ...,\n",
       "        -1.00000000e+00,  3.00000000e+00,             nan],\n",
       "       ...,\n",
       "       [ 1.90260000e+04,  6.60226411e-03,  5.73868322e-02, ...,\n",
       "        -1.00000000e+00,  1.90260000e+04,             nan],\n",
       "       [ 1.90270000e+04,  2.15569513e-02,  6.12801261e-02, ...,\n",
       "        -1.00000000e+00,  1.90270000e+04,             nan],\n",
       "       [ 1.90280000e+04,  1.76515885e-02,  6.47851016e-02, ...,\n",
       "        -1.00000000e+00,  1.90280000e+04,             nan]])"
      ]
     },
     "execution_count": 215,
     "metadata": {},
     "output_type": "execute_result"
    }
   ],
   "source": [
    "test.get_kinematic_data()"
   ]
  },
  {
   "cell_type": "code",
   "execution_count": null,
   "metadata": {},
   "outputs": [],
   "source": []
  }
 ],
 "metadata": {
  "kernelspec": {
   "display_name": "Python 3",
   "language": "python",
   "name": "python3"
  },
  "language_info": {
   "codemirror_mode": {
    "name": "ipython",
    "version": 3
   },
   "file_extension": ".py",
   "mimetype": "text/x-python",
   "name": "python",
   "nbconvert_exporter": "python",
   "pygments_lexer": "ipython3",
   "version": "3.6.5"
  }
 },
 "nbformat": 4,
 "nbformat_minor": 2
}
